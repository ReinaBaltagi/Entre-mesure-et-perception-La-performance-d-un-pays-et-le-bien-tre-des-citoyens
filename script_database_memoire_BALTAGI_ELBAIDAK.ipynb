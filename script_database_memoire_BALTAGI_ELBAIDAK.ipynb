{
 "cells": [
  {
   "cell_type": "code",
   "execution_count": 2,
   "id": "e4315489-066b-44f9-8ffd-8af8d578ee09",
   "metadata": {},
   "outputs": [],
   "source": [
    "import pandas as pd\n",
    "\n",
    "# World Government indicators filtering \n",
    "df = pd.read_csv(\"C:/Users/reina/Desktop/Data memoire/P_Data_Extract_From_Worldwide_Governance_Indicators/Data WGI.csv\")  # Replace with the correct filename\n",
    "\n",
    "\n"
   ]
  },
  {
   "cell_type": "code",
   "execution_count": 7,
   "id": "4541f962-bb1d-4e07-b668-59de182dd845",
   "metadata": {},
   "outputs": [],
   "source": [
    "# Filtrer les colonnes demandées\n",
    "df = df[['Country Name', 'Series Name', '2022 [YR2022]']]\n"
   ]
  },
  {
   "cell_type": "code",
   "execution_count": 15,
   "id": "29034a43-16bd-494d-919d-3ac80270083c",
   "metadata": {},
   "outputs": [
    {
     "name": "stdout",
     "output_type": "stream",
     "text": [
      "     Country Name Series Name 2022 [YR2022]\n",
      "1284          NaN         NaN           NaN\n",
      "1285          NaN         NaN           NaN\n",
      "1286          NaN         NaN           NaN\n"
     ]
    }
   ],
   "source": [
    "#Detecter les valeurs dupliquées en termes de country name and series name\n",
    "duplicates = df[df.duplicated(subset=['Country Name', 'Series Name'], keep=False)]\n",
    "print(duplicates)"
   ]
  },
  {
   "cell_type": "code",
   "execution_count": 19,
   "id": "85519ae4-6c20-4b34-987a-e15e04536572",
   "metadata": {},
   "outputs": [],
   "source": [
    "#enlever les duplicates\n",
    "df = df.drop_duplicates(subset=['Country Name', 'Series Name', '2022 [YR2022]'])"
   ]
  },
  {
   "cell_type": "code",
   "execution_count": 23,
   "id": "3f80daac-3540-40a8-bbbd-11e781c6ac9b",
   "metadata": {},
   "outputs": [],
   "source": [
    "#Créer un tableau croisé dynamique \n",
    "pivoted_df = df.pivot(index='Country Name', columns='Series Name', values='2022 [YR2022]')\n",
    "pivoted_df = df.pivot(index='Country Name', columns='Series Name', values='2022 [YR2022]')\n",
    "pivoted_df.reset_index(inplace=True)\n",
    "pivoted_df.columns.name = None\n",
    "pivoted_df.rename(columns=lambda x: x.split(\":\")[0] if isinstance(x, str) else x, inplace=True)"
   ]
  },
  {
   "cell_type": "code",
   "execution_count": 25,
   "id": "39aa5925-2a9f-471f-8f89-c383bdd12378",
   "metadata": {},
   "outputs": [],
   "source": [
    "#Transformer le tableau croisée en une nouvelle base de données nettoyée\n",
    "pivoted_df.to_csv(\"C:/Users/reina/Desktop/Data memoire/WGI_cleaned.csv\", index=False)"
   ]
  },
  {
   "cell_type": "code",
   "execution_count": 29,
   "id": "c993e4fd-7e40-4a22-b5dd-4ee2ea222237",
   "metadata": {},
   "outputs": [],
   "source": [
    "#Base de données de l'indice de Gini \n",
    "gini_df = pd.read_csv(\"C:/Users/reina/Desktop/Data memoire/economic-inequality-gini-index/economic-inequality-gini-index.csv\")\n",
    "\n",
    "# S'assurer que la conlonne Year est \"entier\"\n",
    "gini_df['Year'] = gini_df['Year'].astype(int)"
   ]
  },
  {
   "cell_type": "code",
   "execution_count": 31,
   "id": "ab1e4b2d-52cf-43fe-86bf-a04b5ab34f9e",
   "metadata": {},
   "outputs": [],
   "source": [
    "#Filtrer les années\n",
    "gini_filtered = gini_df[gini_df['Year'].isin([2021, 2022, 2023])]"
   ]
  },
  {
   "cell_type": "code",
   "execution_count": null,
   "id": "07858be6-9ce0-4501-ae07-202bbe978985",
   "metadata": {},
   "outputs": [],
   "source": [
    "# Filtrer les années et faire une copie pour éviter les avertissements\n",
    "gini_filtered = gini_df[gini_df['Year'].isin([2021, 2022, 2023])].copy()\n",
    "\n",
    "# Calculer la différence absolue par rapport à 2022 de manière sécurisée\n",
    "gini_filtered.loc[:, 'year_distance'] = (gini_filtered['Year'] - 2022).abs()\n",
    "\n",
    "# Trier par 'Entity' (pays) et 'year_distance' pour obtenir l'année la plus proche par pays\n",
    "gini_final = gini_filtered.sort_values(by=['Entity', 'year_distance']).drop_duplicates(subset='Entity', keep='first')\n",
    "\n",
    "# Supprimer éventuellement la colonne d’aide\n",
    "gini_final = gini_final.drop(columns='year_distance')\n",
    "\n"
   ]
  },
  {
   "cell_type": "code",
   "execution_count": 39,
   "id": "7cbbebae-33fd-4799-b975-2051ce0078b8",
   "metadata": {},
   "outputs": [],
   "source": [
    "gini_final.to_csv(\"C:/Users/reina/Desktop/Data memoire/cleaned_gini_2022_equivalent.csv\", index=False)\n",
    "\n"
   ]
  },
  {
   "cell_type": "code",
   "execution_count": 5,
   "id": "58344428-b018-4897-8b26-01ae48b9456d",
   "metadata": {},
   "outputs": [],
   "source": [
    "#Pour l'éducation \n",
    "#Pour Average years of schooling \n",
    "df = pd.read_csv(\"C:/Users/reina/Desktop/Data memoire/average-years-of-schooling.filtered/average-years-of-schooling.csv\")  \n",
    "\n",
    "# Filtrer l'année 2022 uniquement\n",
    "df = df[df['Year'] == 2022]\n",
    "\n",
    "# Enlever les regions n'ayant pas un code country parce que ce ne sont pas des pays\n",
    "df = df[df['Code'].notna()]\n",
    "\n",
    "# choisir les colonnes importantes\n",
    "df = df[['Entity', 'Code', 'Average years of schooling']]\n",
    "\n",
    "# Renommer entity country pour plus de clarté \n",
    "df = df.rename(columns={\n",
    "    'Entity': 'Country',\n",
    "})\n",
    "\n",
    "#  reset index\n",
    "df = df.reset_index(drop=True)\n",
    "\n",
    "\n",
    "df.to_csv(\"C:/Users/reina/Desktop/Data memoire/Cleaned Data/cleaned_mean_years_schooling_2022.csv\", index=False)"
   ]
  },
  {
   "cell_type": "code",
   "execution_count": 14,
   "id": "e8e60230-67aa-4848-a5b4-d6bce08c898c",
   "metadata": {},
   "outputs": [
    {
     "name": "stdout",
     "output_type": "stream",
     "text": [
      "     Country Code  Year  PrimaryEnrollmentRate\n",
      "0    Albania  ALB  2022               91.52203\n",
      "1    Algeria  DZA  2022               97.86955\n",
      "2    Andorra  AND  2022               93.24652\n",
      "3   Anguilla  AIA  2022               97.62030\n",
      "4  Argentina  ARG  2022               99.25256\n"
     ]
    }
   ],
   "source": [
    "#Pour le primary enrollment rate \n",
    "df_enrollment = pd.read_csv(\"C:/Users/reina/Desktop/Data memoire/primary-enrollment-selected-countries.filtered/primary-enrollment-selected-countries.csv\")  \n",
    "\n",
    "# Filtrer pour avoir uniquement l'année 2022\n",
    "df_enrollment = df_enrollment[df_enrollment[\"Year\"] == 2022]\n",
    "\n",
    "# Enlever les regions n'ayant pas un code country parce que ce ne sont pas des pays\n",
    "df_enrollment = df_enrollment[df_enrollment[\"Code\"].notna()]\n",
    "\n",
    "# Renommer la colonne clé pour plus de flexibilité\n",
    "df_enrollment = df_enrollment.rename(\n",
    "    columns={\"Combined total net enrolment rate, primary, both sexes\": \"PrimaryEnrollmentRate\"}\n",
    ")\n",
    "# Renommer entity country pour plus de clarté \n",
    "df_enrollment = df_enrollment.rename(columns={\n",
    "    'Entity': 'Country',\n",
    "})\n",
    "\n",
    "# Reset index\n",
    "df_enrollment = df_enrollment.reset_index(drop=True)\n",
    "\n",
    "print(df_enrollment.head())\n",
    "# Save the cleaned dataset\n",
    "df_enrollment.to_csv(\"C:/Users/reina/Desktop/Data memoire/Cleaned Data/cleaned_primary_enrollment_rate_2022.csv\", index=False)"
   ]
  },
  {
   "cell_type": "code",
   "execution_count": 6,
   "id": "06664fd2-491a-4dae-ae6e-104ff8878477",
   "metadata": {},
   "outputs": [],
   "source": [
    "# Étape 1 : Charger les données\n",
    "df_government = pd.read_csv(\"C:/Users/reina/Desktop/Data memoire/total-government-expenditure-on-education-gdp/total-government-expenditure-on-education-gdp.csv\")\n",
    "\n",
    "# Étape 2 : Nettoyer les noms de colonnes\n",
    "df_government.columns = df_government.columns.str.strip()\n",
    "\n",
    "# Étape 3 : Convertir la colonne 'Year' en numérique\n",
    "df_government['Year'] = pd.to_numeric(df_government['Year'], errors='coerce')\n",
    "\n",
    "# Étape 4 : Renommer 'Entity' en 'Country' pour plus de clarté\n",
    "df_government = df_government.rename(columns={'Entity': 'Country'})\n",
    "df_government_filtered = df_government[df_government['Year'].isin([2021, 2022, 2023])]\n",
    "# Étape 5 : Garder l’année la plus proche de 2022 pour chaque pays\n",
    "df_closest = df_government_filtered.copy()\n",
    "df_closest['diff'] = abs(df_government_filtered['Year'] - 2022)\n",
    "\n",
    "# Étape 6 : Garder la ligne avec la plus petite différence par pays\n",
    "df_final = df_closest.sort_values('diff').groupby(['Country', 'Code']).first().reset_index()\n",
    "\n",
    "# Étape 7 : Supprimer la colonne temporaire 'diff'\n",
    "df_final = df_final.drop(columns='diff')\n",
    "\n",
    "# Étape 8 : Sauvegarder le résultat dans un nouveau fichier CSV\n",
    "df_final.to_csv(\"C:/Users/reina/Desktop/Data memoire/Cleaned Data/education_spending_GDP_Cleaned_2022.csv\", index=False)\n"
   ]
  },
  {
   "cell_type": "code",
   "execution_count": 28,
   "id": "c5f46b35-334b-41ca-83ca-104a871fcb38",
   "metadata": {},
   "outputs": [],
   "source": [
    "\n",
    "import pandas as pd\n",
    "\n",
    "# Définir le chemin du dossier contenant les fichiers\n",
    "path = r\"C:\\Users\\reina\\Desktop\\Data memoire\\Cleaned Data\"\n",
    "\n",
    "# Charger les fichiers CSV\n",
    "df_spending = pd.read_csv(f\"{path}\\\\cleaned_education_spending_GDP_2022.csv\")\n",
    "df_schooling = pd.read_csv(f\"{path}\\\\cleaned_mean_years_schooling_2022.csv\")\n",
    "df_enrollment = pd.read_csv(f\"{path}\\\\cleaned_primary_enrollment_rate_2022.csv\")\n",
    "\n",
    "# Supprimer les colonnes Year inutiles\n",
    "df_spending = df_spending.drop(columns=['Year'])\n",
    "df_enrollment = df_enrollment.drop(columns=['Year'])\n",
    "\n",
    "# Supprimer les colonnes Code en double\n",
    "df_schooling = df_schooling.drop(columns=['Code'])\n",
    "df_enrollment = df_enrollment.drop(columns=['Code'])\n",
    "\n",
    "# Fusionner les trois fichiers sur la colonne Country (en gardant uniquement les pays communs)\n",
    "merged_df = df_spending.merge(df_schooling, on='Country', how='inner') \\\n",
    "                       .merge(df_enrollment, on='Country', how='inner')\n",
    "\n",
    "# Sauvegarder le fichier final en CSV\n",
    "merged_df.to_csv(f\"{path}\\\\merged_education_data_2022.csv\", index=False)\n",
    "\n"
   ]
  },
  {
   "cell_type": "code",
   "execution_count": 32,
   "id": "fb93759b-3dfb-4847-b45a-2e8363a5f81b",
   "metadata": {},
   "outputs": [],
   "source": [
    "#Pour l'environnement: EPI \n",
    "epi_df = pd.read_csv(\"C:/Users/reina/Desktop/Data memoire/Cleaned Data/epi2022.csv\")\n",
    "\n",
    "# Garder seulement les colonnes utiles : country, code, EPI.new\n",
    "epi_filtered = epi_df[['country', 'iso', 'EPI.new']]\n",
    "\n",
    "# Renommer les colonnes pour uniformiser si besoin (optionnel)\n",
    "epi_filtered = epi_filtered.rename(columns={\n",
    "    'country': 'Country',\n",
    "    'iso': 'Code'\n",
    "})\n",
    "\n",
    "# Sauvegarder le nouveau fichier filtré\n",
    "epi_filtered.to_csv(\"C:/Users/reina/Desktop/Data memoire/Cleaned Data/epi2022_cleaned.csv\", index=False)\n"
   ]
  },
  {
   "cell_type": "code",
   "execution_count": 36,
   "id": "a7e74e19-bbeb-455d-8ecc-ce269e271914",
   "metadata": {},
   "outputs": [],
   "source": [
    "#Pour l'indice de Gini \n",
    "gini_df = pd.read_csv(\"C:/Users/reina/Desktop/Data memoire/Cleaned Data/cleaned_gini_2022_equivalent.csv\")\n",
    "\n",
    "# Supprimer la colonne 'Year'\n",
    "gini_df = gini_df.drop(columns=['Year'])\n",
    "\n",
    "# Renommer la colonne 'Entity' en 'Country'\n",
    "gini_df = gini_df.rename(columns={'Entity': 'Country'})\n",
    "\n",
    "# Sauvegarder le fichier nettoyé\n",
    "gini_df.to_csv(\"C:/Users/reina/Desktop/Data memoire/Cleaned Data/cleaned_filtered_gini_2022.csv\", index=False)"
   ]
  },
  {
   "cell_type": "code",
   "execution_count": 38,
   "id": "046df8cb-83d6-4cbc-bcd9-64d0a52e1d02",
   "metadata": {},
   "outputs": [],
   "source": [
    "#Pour les indicateurs de gouvernance (WGI) \n",
    "wgi_df = pd.read_csv(\"C:/Users/reina/Desktop/Data memoire/Cleaned Data/WGI_cleaned.csv\")\n",
    "\n",
    "# Garder uniquement les colonnes nécessaires\n",
    "wgi_df = wgi_df[[\n",
    "    'Country Name',\n",
    "    'Government Effectiveness',\n",
    "    'Political Stability and Absence of Violence/Terrorism',\n",
    "    'Rule of Law'\n",
    "]]\n",
    "\n",
    "# Renommer la colonne 'Country Name' en 'Country'\n",
    "wgi_df = wgi_df.rename(columns={'Country Name': 'Country'})\n",
    "\n",
    "# Sauvegarder le fichier nettoyé\n",
    "\n",
    "wgi_df.to_csv(\"C:/Users/reina/Desktop/Data memoire/Cleaned Data/WGI_filtered_cleaned.csv\", index=False)\n"
   ]
  },
  {
   "cell_type": "code",
   "execution_count": 40,
   "id": "4049c211-1324-4cc1-8599-b398a4893989",
   "metadata": {},
   "outputs": [],
   "source": [
    "#Pour la database World Happiness Report\n",
    "\n",
    "\n",
    "\n",
    "# Lire le fichier CSV\n",
    "whr_df = pd.read_csv(\"C:/Users/reina/Desktop/Data memoire/Cleaned Data/WHR.csv\")\n",
    "\n",
    "# Sélectionner les colonnes souhaitées\n",
    "whr_df = whr_df[[\n",
    "    'Country name',\n",
    "    'Ladder score',\n",
    "    'Logged GDP per capita',\n",
    "    'Social support',\n",
    "    'Healthy life expectancy',\n",
    "    'Freedom to make life choices',\n",
    "    'Perceptions of corruption',\n",
    "    'Generosity'\n",
    "]]\n",
    "\n",
    "# Renommer la colonne 'Country name' en 'Country'\n",
    "whr_df = whr_df.rename(columns={'Country name': 'Country'})\n",
    "\n",
    "# Sauvegarder le fichier filtré\n",
    "whr_df.to_csv(\"C:/Users/reina/Desktop/Data memoire/Cleaned Data/WHR_filtered_cleaned.csv\", index=False)\n"
   ]
  },
  {
   "cell_type": "code",
   "execution_count": 42,
   "id": "a92f1f6c-d2c3-414a-9c85-a2b843314637",
   "metadata": {},
   "outputs": [],
   "source": [
    "#Final Database: Toutes les bases de données nettoyées et filtrées combinées. \n",
    "# Folder path\n",
    "folder = r\"C:\\Users\\reina\\Desktop\\Data memoire\\Cleaned Data\\Final data Base\"\n",
    "\n",
    "# datasets\n",
    "gini = pd.read_csv(os.path.join(folder, \"cleaned_filtered_gini_2022.csv\"))\n",
    "epi = pd.read_csv(os.path.join(folder, \"epi2022_cleaned.csv\"))\n",
    "education = pd.read_csv(os.path.join(folder, \"merged_education_data_2022.csv\"))\n",
    "wgi = pd.read_csv(os.path.join(folder, \"WGI_filtered_cleaned.csv\"))\n",
    "whr = pd.read_csv(os.path.join(folder, \"WHR_filtered_cleaned.csv\"))\n",
    "\n",
    "# Faire un merge on 'Country' avec inner join\n",
    "merged_df = gini.merge(epi, on=\"Country\", how=\"inner\") \\\n",
    "                .merge(education, on=\"Country\", how=\"inner\") \\\n",
    "                .merge(wgi, on=\"Country\", how=\"inner\") \\\n",
    "                .merge(whr, on=\"Country\", how=\"inner\")\n",
    "\n",
    "# enlever toutes les colonnes contenant 'code' (case-insensitive, covers Code_x, Code_y, etc.)\n",
    "merged_df = merged_df[[col for col in merged_df.columns if 'code' not in col.lower()]]\n",
    "\n",
    "# Sauvegarder la base finale\n",
    "output_path = os.path.join(folder, \"Final_Database_Clean.csv\")\n",
    "merged_df.to_csv(output_path, index=False)\n"
   ]
  }
 ],
 "metadata": {
  "kernelspec": {
   "display_name": "Python [conda env:base] *",
   "language": "python",
   "name": "conda-base-py"
  },
  "language_info": {
   "codemirror_mode": {
    "name": "ipython",
    "version": 3
   },
   "file_extension": ".py",
   "mimetype": "text/x-python",
   "name": "python",
   "nbconvert_exporter": "python",
   "pygments_lexer": "ipython3",
   "version": "3.12.7"
  }
 },
 "nbformat": 4,
 "nbformat_minor": 5
}
